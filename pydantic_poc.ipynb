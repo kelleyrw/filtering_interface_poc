{
 "cells": [
  {
   "cell_type": "markdown",
   "id": "838a807d-5fd5-43a9-8003-0bd0d73cadb3",
   "metadata": {},
   "source": [
    "# Pydantic POC "
   ]
  },
  {
   "cell_type": "code",
   "execution_count": 1,
   "id": "a76fe5e4-7081-48a1-81ad-4bd71d8c77d8",
   "metadata": {},
   "outputs": [],
   "source": [
    "import numpy as np\n",
    "import pandas as pd"
   ]
  },
  {
   "cell_type": "markdown",
   "id": "ae0c9844-efed-4a39-b60b-bfe3995533dd",
   "metadata": {},
   "source": [
    "## Example "
   ]
  },
  {
   "cell_type": "code",
   "execution_count": 1,
   "id": "f3520a3c-5949-4d50-895a-b12a1de92232",
   "metadata": {},
   "outputs": [],
   "source": [
    "from datetime import date\n",
    "from typing import Tuple\n",
    "\n",
    "from pydantic import BaseModel, ConfigDict, ValidationError\n",
    "\n",
    "\n",
    "class Event(BaseModel):\n",
    "    model_config = ConfigDict(strict=True)\n",
    "\n",
    "    when: date\n",
    "    where: Tuple[int, int]"
   ]
  },
  {
   "cell_type": "code",
   "execution_count": 2,
   "id": "d4689940-b4e0-4106-af1a-463df3681fe4",
   "metadata": {},
   "outputs": [
    {
     "name": "stdout",
     "output_type": "stream",
     "text": [
      "when=datetime.date(1987, 1, 28) where=(51, -1)\n"
     ]
    }
   ],
   "source": [
    "json_data = '{\"when\": \"1987-01-28\", \"where\": [51, -1]}'\n",
    "print(Event.model_validate_json(json_data))"
   ]
  },
  {
   "cell_type": "code",
   "execution_count": 3,
   "id": "44a2d93a-7444-4372-89c8-e9d79093a26f",
   "metadata": {},
   "outputs": [
    {
     "name": "stdout",
     "output_type": "stream",
     "text": [
      "2 validation errors for Event\n",
      "when\n",
      "  Input should be a valid date [type=date_type, input_value='1987-01-28', input_type=str]\n",
      "    For further information visit https://errors.pydantic.dev/2.7/v/date_type\n",
      "where\n",
      "  Input should be a valid tuple [type=tuple_type, input_value=[51, -1], input_type=list]\n",
      "    For further information visit https://errors.pydantic.dev/2.7/v/tuple_type\n"
     ]
    }
   ],
   "source": [
    "try:\n",
    "    Event.model_validate({'when': '1987-01-28', 'where': [51, -1]})  \n",
    "except ValidationError as e:\n",
    "    print(e)"
   ]
  },
  {
   "cell_type": "markdown",
   "id": "0ff511b9-d5c6-4dd8-8688-9cae6fad1993",
   "metadata": {},
   "source": [
    "## Try types"
   ]
  },
  {
   "cell_type": "code",
   "execution_count": 8,
   "id": "0ad78a76-75db-4c51-9123-acd65db36504",
   "metadata": {},
   "outputs": [],
   "source": [
    "class Type1(BaseModel):\n",
    "\n",
    "    expression_type: str\n",
    "    value: int"
   ]
  },
  {
   "cell_type": "code",
   "execution_count": 10,
   "id": "ee452b3d-4ee0-40c5-a80f-5d773b69ed62",
   "metadata": {},
   "outputs": [
    {
     "data": {
      "text/plain": [
       "Type1(expression_type='Type1', value=7)"
      ]
     },
     "execution_count": 10,
     "metadata": {},
     "output_type": "execute_result"
    }
   ],
   "source": [
    "type1_data = \"\"\"\\\n",
    "    {\"expression_type\": \"Type1\", \"value\": 7}\n",
    "\"\"\"\n",
    "Type1.model_validate_json(type1_data)"
   ]
  },
  {
   "cell_type": "code",
   "execution_count": 11,
   "id": "ea3a9084-f478-4a36-8b30-3bda4bfd020a",
   "metadata": {},
   "outputs": [],
   "source": [
    "class Type2(BaseModel):\n",
    "\n",
    "    expression_type: str\n",
    "    value1: int\n",
    "    value2: float"
   ]
  },
  {
   "cell_type": "code",
   "execution_count": 27,
   "id": "79a525c1-755a-42d4-b784-7ec59afd873b",
   "metadata": {},
   "outputs": [
    {
     "data": {
      "text/plain": [
       "Type2(expression_type='Type2', value1=7, value2=7.7)"
      ]
     },
     "execution_count": 27,
     "metadata": {},
     "output_type": "execute_result"
    }
   ],
   "source": [
    "type2_data = \"\"\"\\\n",
    "    {\"expression_type\": \"Type2\", \"value1\": 7, \"value2\": 7.7}\n",
    "\"\"\"\n",
    "Type2.model_validate_json(type2_data)"
   ]
  },
  {
   "cell_type": "code",
   "execution_count": 40,
   "id": "45456512-c5b7-431d-9c27-542b397e6384",
   "metadata": {},
   "outputs": [
    {
     "data": {
      "text/plain": [
       "Type2(expression_type='foo', value1=7, value2=7.7)"
      ]
     },
     "execution_count": 40,
     "metadata": {},
     "output_type": "execute_result"
    }
   ],
   "source": [
    "unsupported_type_data = \"\"\"\\\n",
    "    {\"expression_type\": \"foo\", \"value1\": 7, \"value2\": 7.7}\n",
    "\"\"\"\n",
    "Type2.model_validate_json(unsupported_type_data)"
   ]
  },
  {
   "cell_type": "code",
   "execution_count": 36,
   "id": "3c87d129-8033-435e-ad6f-080eb83d9182",
   "metadata": {},
   "outputs": [
    {
     "data": {
      "text/plain": [
       "{'expression_type': 'Type1', 'value': 7}"
      ]
     },
     "execution_count": 36,
     "metadata": {},
     "output_type": "execute_result"
    }
   ],
   "source": [
    "from pydantic_core import from_json\n",
    "\n",
    "parsed_dict = from_json(type1_data, allow_partial=True)\n",
    "parsed_dict"
   ]
  },
  {
   "cell_type": "code",
   "execution_count": 37,
   "id": "84d681dc-e50b-400d-82ab-a816e78e18e1",
   "metadata": {},
   "outputs": [
    {
     "data": {
      "text/plain": [
       "Type1(expression_type='Type1', value=7)"
      ]
     },
     "execution_count": 37,
     "metadata": {},
     "output_type": "execute_result"
    }
   ],
   "source": [
    "from enum import Enum\n",
    "\n",
    "class ExpressionParser(Enum):\n",
    "    Type1: BaseModel = Type1\n",
    "    Type2: BaseModel = Type2\n",
    "\n",
    "    @classmethod\n",
    "    def parse(cls, json_data):\n",
    "        expr_type = from_json(json_data, allow_partial=True)['expression_type']\n",
    "        return cls[expr_type].value.model_validate_json(json_data)\n",
    "\n",
    "ExpressionRouter.parse(type1_data)"
   ]
  },
  {
   "cell_type": "code",
   "execution_count": 38,
   "id": "6293f897-1166-410a-ab7c-82f4b0633705",
   "metadata": {},
   "outputs": [
    {
     "data": {
      "text/plain": [
       "Type2(expression_type='Type2', value1=7, value2=7.7)"
      ]
     },
     "execution_count": 38,
     "metadata": {},
     "output_type": "execute_result"
    }
   ],
   "source": [
    "ExpressionRouter.parse(type2_data)"
   ]
  },
  {
   "cell_type": "code",
   "execution_count": 41,
   "id": "79c68ad6-39b7-4260-b97f-c955e4b93f21",
   "metadata": {},
   "outputs": [
    {
     "ename": "KeyError",
     "evalue": "'foo'",
     "output_type": "error",
     "traceback": [
      "\u001b[0;31m---------------------------------------------------------------------------\u001b[0m",
      "\u001b[0;31mKeyError\u001b[0m                                  Traceback (most recent call last)",
      "Cell \u001b[0;32mIn[41], line 1\u001b[0m\n\u001b[0;32m----> 1\u001b[0m \u001b[43mExpressionRouter\u001b[49m\u001b[38;5;241;43m.\u001b[39;49m\u001b[43mparse\u001b[49m\u001b[43m(\u001b[49m\u001b[43munsupported_type_data\u001b[49m\u001b[43m)\u001b[49m\n",
      "Cell \u001b[0;32mIn[32], line 10\u001b[0m, in \u001b[0;36mExpressionRouter.parse\u001b[0;34m(cls, json_data)\u001b[0m\n\u001b[1;32m      7\u001b[0m \u001b[38;5;129m@classmethod\u001b[39m\n\u001b[1;32m      8\u001b[0m \u001b[38;5;28;01mdef\u001b[39;00m \u001b[38;5;21mparse\u001b[39m(\u001b[38;5;28mcls\u001b[39m, json_data):\n\u001b[1;32m      9\u001b[0m     expr_type \u001b[38;5;241m=\u001b[39m from_json(json_data, allow_partial\u001b[38;5;241m=\u001b[39m\u001b[38;5;28;01mTrue\u001b[39;00m)[\u001b[38;5;124m'\u001b[39m\u001b[38;5;124mexpression_type\u001b[39m\u001b[38;5;124m'\u001b[39m]\n\u001b[0;32m---> 10\u001b[0m     \u001b[38;5;28;01mreturn\u001b[39;00m \u001b[38;5;28;43mcls\u001b[39;49m\u001b[43m[\u001b[49m\u001b[43mexpr_type\u001b[49m\u001b[43m]\u001b[49m\u001b[38;5;241m.\u001b[39mvalue\u001b[38;5;241m.\u001b[39mmodel_validate_json(json_data)\n",
      "File \u001b[0;32m~/.pyenv/versions/3.12.2/lib/python3.12/enum.py:801\u001b[0m, in \u001b[0;36mEnumType.__getitem__\u001b[0;34m(cls, name)\u001b[0m\n\u001b[1;32m    797\u001b[0m \u001b[38;5;28;01mdef\u001b[39;00m \u001b[38;5;21m__getitem__\u001b[39m(\u001b[38;5;28mcls\u001b[39m, name):\n\u001b[1;32m    798\u001b[0m \u001b[38;5;250m    \u001b[39m\u001b[38;5;124;03m\"\"\"\u001b[39;00m\n\u001b[1;32m    799\u001b[0m \u001b[38;5;124;03m    Return the member matching `name`.\u001b[39;00m\n\u001b[1;32m    800\u001b[0m \u001b[38;5;124;03m    \"\"\"\u001b[39;00m\n\u001b[0;32m--> 801\u001b[0m     \u001b[38;5;28;01mreturn\u001b[39;00m \u001b[38;5;28;43mcls\u001b[39;49m\u001b[38;5;241;43m.\u001b[39;49m\u001b[43m_member_map_\u001b[49m\u001b[43m[\u001b[49m\u001b[43mname\u001b[49m\u001b[43m]\u001b[49m\n",
      "\u001b[0;31mKeyError\u001b[0m: 'foo'"
     ]
    }
   ],
   "source": [
    "ExpressionRouter.parse(unsupported_type_data)"
   ]
  },
  {
   "cell_type": "code",
   "execution_count": null,
   "id": "42da1079-6c67-43c5-bbad-1e0d200b378f",
   "metadata": {},
   "outputs": [],
   "source": []
  }
 ],
 "metadata": {
  "kernelspec": {
   "display_name": "Python 3 (ipykernel)",
   "language": "python",
   "name": "python3"
  },
  "language_info": {
   "codemirror_mode": {
    "name": "ipython",
    "version": 3
   },
   "file_extension": ".py",
   "mimetype": "text/x-python",
   "name": "python",
   "nbconvert_exporter": "python",
   "pygments_lexer": "ipython3",
   "version": "3.12.2"
  }
 },
 "nbformat": 4,
 "nbformat_minor": 5
}

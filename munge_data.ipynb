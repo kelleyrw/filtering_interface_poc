{
 "cells": [
  {
   "cell_type": "markdown",
   "id": "838a807d-5fd5-43a9-8003-0bd0d73cadb3",
   "metadata": {},
   "source": [
    "# munge data"
   ]
  },
  {
   "cell_type": "code",
   "execution_count": 1,
   "id": "a76fe5e4-7081-48a1-81ad-4bd71d8c77d8",
   "metadata": {},
   "outputs": [],
   "source": [
    "import numpy as np\n",
    "import pandas as pd"
   ]
  },
  {
   "cell_type": "markdown",
   "id": "ae0c9844-efed-4a39-b60b-bfe3995533dd",
   "metadata": {},
   "source": [
    "## load data "
   ]
  },
  {
   "cell_type": "code",
   "execution_count": 2,
   "id": "870c9caf-032f-4de2-acda-d3895acab5ca",
   "metadata": {},
   "outputs": [
    {
     "data": {
      "text/plain": [
       "'/Users/rwk/Development/training/filtering_interface_poc/data/full_format_recipes.json'"
      ]
     },
     "execution_count": 2,
     "metadata": {},
     "output_type": "execute_result"
    }
   ],
   "source": [
    "data_file = f'{os.getenv(\"PROJECT_DIR\")}/data/full_format_recipes.json'\n",
    "data_file"
   ]
  },
  {
   "cell_type": "code",
   "execution_count": 7,
   "id": "6060a4f0-90f8-4d96-8b42-f7001e74fe9a",
   "metadata": {},
   "outputs": [
    {
     "data": {
      "text/html": [
       "<div>\n",
       "<style scoped>\n",
       "    .dataframe tbody tr th:only-of-type {\n",
       "        vertical-align: middle;\n",
       "    }\n",
       "\n",
       "    .dataframe tbody tr th {\n",
       "        vertical-align: top;\n",
       "    }\n",
       "\n",
       "    .dataframe thead th {\n",
       "        text-align: right;\n",
       "    }\n",
       "</style>\n",
       "<table border=\"1\" class=\"dataframe\">\n",
       "  <thead>\n",
       "    <tr style=\"text-align: right;\">\n",
       "      <th></th>\n",
       "      <th>directions</th>\n",
       "      <th>fat</th>\n",
       "      <th>date</th>\n",
       "      <th>categories</th>\n",
       "      <th>calories</th>\n",
       "      <th>desc</th>\n",
       "      <th>protein</th>\n",
       "      <th>rating</th>\n",
       "      <th>title</th>\n",
       "      <th>ingredients</th>\n",
       "      <th>sodium</th>\n",
       "    </tr>\n",
       "  </thead>\n",
       "  <tbody>\n",
       "    <tr>\n",
       "      <th>0</th>\n",
       "      <td>[1. Place the stock, lentils, celery, carrot, thyme, and salt in a medium saucepan and bring to a boil. Reduce heat to low and simmer until the lentils are tender, about 30 minutes, depending on the lentils. (If they begin to dry out, add water as needed.) Remove and discard the thyme. Drain and transfer the mixture to a bowl; let cool., 2. Fold in the tomato, apple, lemon juice, and olive oil. Season with the pepper., 3. To assemble a wrap, place 1 lavash sheet on a clean work surface. Spread some of the lentil mixture on the end nearest you, leaving a 1-inch border. Top with several slices of turkey, then some of the lettuce. Roll up the lavash, slice crosswise, and serve. If using tortillas, spread the lentils in the center, top with the turkey and lettuce, and fold up the bottom, left side, and right side before rolling away from you.]</td>\n",
       "      <td>7.0</td>\n",
       "      <td>2006-09-01 04:00:00+00:00</td>\n",
       "      <td>[Sandwich, Bean, Fruit, Tomato, turkey, Vegetable, Kid-Friendly, Apple, Lentil, Lettuce, Cookie]</td>\n",
       "      <td>426.0</td>\n",
       "      <td>None</td>\n",
       "      <td>30.0</td>\n",
       "      <td>2.500</td>\n",
       "      <td>Lentil, Apple, and Turkey Wrap</td>\n",
       "      <td>[4 cups low-sodium vegetable or chicken stock, 1 cup dried brown lentils, 1/2 cup dried French green lentils, 2 stalks celery, chopped, 1 large carrot, peeled and chopped, 1 sprig fresh thyme, 1 teaspoon kosher salt, 1 medium tomato, cored, seeded, and diced, 1 small Fuji apple, cored and diced, 1 tablespoon freshly squeezed lemon juice, 2 teaspoons extra-virgin olive oil, Freshly ground black pepper to taste, 3 sheets whole-wheat lavash, cut in half crosswise, or 6 (12-inch) flour tortillas, 3/4 pound turkey breast, thinly sliced, 1/2 head Bibb lettuce]</td>\n",
       "      <td>559.0</td>\n",
       "    </tr>\n",
       "    <tr>\n",
       "      <th>1</th>\n",
       "      <td>[Combine first 9 ingredients in heavy medium saucepan. Add 3 shallots. Bring to simmer. Remove from heat, cover and let stand 30 minutes. Chill overnight., Preheat oven to 325°F. Line 7-cup pâté or bread pan with plastic wrap. Melt butter in heavy small skillet over low heat. Add remaining 5 shallots. Cover and cook until very soft, stirring occasionally, about 15 minutes. Transfer to processor. Add pork, eggs, flour and Port and puree. Strain cream mixture, pressing on solids to extract as much liquid as possible. With processor running, add cream through feed tube and process just until combined with pork. Transfer to large bowl. Mix in currants., Spoon mixture into prepared pan. Cover with foil. Place pan in large pan. Add boiling water to larger pan to within 1/2 inch of top of terrine. Bake until terrine begins to shrink from sides of pan and knife inserted into center comes out clean, about 1 1/2 hours. Uncover and cool on rack. Chill until cold. (Can be made 3 days ahead. Cover and chill.), Line platter with lettuce. Arrange terrine atop. Sprinkle with pepper and parsley. Garnish with bay leaves. Spoon confit around sides. Serve with bread., Heat oil in heavy large skillet over medium-high heat. Add onions and sauté until crisp-tender, about 8 minutes. Add all remaining ingredients and stir until reduced to thick glaze, about 4 minutes. Season with salt and pepper. (Can be prepared 2 days ahead. Cover and chill.) Serve warm or at room temperature.]</td>\n",
       "      <td>23.0</td>\n",
       "      <td>2004-08-20 04:00:00+00:00</td>\n",
       "      <td>[Food Processor, Onion, Pork, Bake, Bastille Day, New Year's Eve, Dried Fruit, Port, Winter, Chill, Bon Appétit]</td>\n",
       "      <td>403.0</td>\n",
       "      <td>This uses the same ingredients found in boudin blanc, the classic French white sausage. Start two days before serving.</td>\n",
       "      <td>18.0</td>\n",
       "      <td>4.375</td>\n",
       "      <td>Boudin Blanc Terrine with Red Onion Confit</td>\n",
       "      <td>[1 1/2 cups whipping cream, 2 medium onions, chopped, 5 teaspoons salt, 3 bay leaves, 3 whole cloves, 1 large garlic clove, crushed, 1 teaspoon pepper, 1/8 teaspoon ground nutmeg, Pinch of dried thyme, crumbled, 8 large shallots, minced, 1 tablespoon butter, 1 pound trimmed boneless center pork loin, sinew removed cut into 1-inch chunks, well chilled, 3 eggs, 6 tablespoon all purpose flour, 1/4 cup tawny Port, 3 tablespoons dried currants, minced, Lettuce leaves, Cracked peppercorns, Minced fresh parsley, Bay leaves, French bread baguette slices, 3 tablespoons olive oil, 2 large red onions, halved, sliced, 3 tablespoons dried currants, 3 tablespoons red wine vinegar, 1 tablespoons canned chicken broth, 2 teaspoons chopped fresh thyme or 3/4 teaspoon dried, crumbled, 1/2 teaspoon sugar]</td>\n",
       "      <td>1439.0</td>\n",
       "    </tr>\n",
       "    <tr>\n",
       "      <th>2</th>\n",
       "      <td>[In a large heavy saucepan cook diced fennel and onion in butter over moderate heat, stirring, until softened, about 10 minutes. Peel and cube potatoes. Add potatoes and broth to fennel mixture and simmer, covered, until potatoes are very tender, about 20 minutes. In a blender or food processor purée mixture in batches until smooth and return to saucepan. Stir in milk and salt and pepper to taste and simmer soup, stirring occasionally, 10 minutes, or until heated through., Garnish soup with reserved fennel leaves.]</td>\n",
       "      <td>7.0</td>\n",
       "      <td>2004-08-20 04:00:00+00:00</td>\n",
       "      <td>[Soup/Stew, Dairy, Potato, Vegetable, Fennel, Gourmet, New York]</td>\n",
       "      <td>165.0</td>\n",
       "      <td>None</td>\n",
       "      <td>6.0</td>\n",
       "      <td>3.750</td>\n",
       "      <td>Potato and Fennel Soup Hodge</td>\n",
       "      <td>[1 fennel bulb (sometimes called anise), stalks discarded, bulb cut into 1/2-inch dice, and feathery leaves reserved for garnish, 1 onion, diced, 2 tablespoons unsalted butter, 2 medium russet (baking) potatoes, 2 cups chicken broth, 1 1/2 cups milk]</td>\n",
       "      <td>165.0</td>\n",
       "    </tr>\n",
       "  </tbody>\n",
       "</table>\n",
       "</div>"
      ],
      "text/plain": [
       "                                                                                                                                                                                                                                                                                                                                                                                                                                                                                                                                                                                                                                                                                                                                                                                                                                                                                                                                                                                                                                                                                                                                                                                                                                                                                                                                                                                                                                                                                                                                directions  \\\n",
       "0                                                                                                                                                                                                                                                                                                                                                                                                                                                                                                                                                                                                                                                      [1. Place the stock, lentils, celery, carrot, thyme, and salt in a medium saucepan and bring to a boil. Reduce heat to low and simmer until the lentils are tender, about 30 minutes, depending on the lentils. (If they begin to dry out, add water as needed.) Remove and discard the thyme. Drain and transfer the mixture to a bowl; let cool., 2. Fold in the tomato, apple, lemon juice, and olive oil. Season with the pepper., 3. To assemble a wrap, place 1 lavash sheet on a clean work surface. Spread some of the lentil mixture on the end nearest you, leaving a 1-inch border. Top with several slices of turkey, then some of the lettuce. Roll up the lavash, slice crosswise, and serve. If using tortillas, spread the lentils in the center, top with the turkey and lettuce, and fold up the bottom, left side, and right side before rolling away from you.]   \n",
       "1  [Combine first 9 ingredients in heavy medium saucepan. Add 3 shallots. Bring to simmer. Remove from heat, cover and let stand 30 minutes. Chill overnight., Preheat oven to 325°F. Line 7-cup pâté or bread pan with plastic wrap. Melt butter in heavy small skillet over low heat. Add remaining 5 shallots. Cover and cook until very soft, stirring occasionally, about 15 minutes. Transfer to processor. Add pork, eggs, flour and Port and puree. Strain cream mixture, pressing on solids to extract as much liquid as possible. With processor running, add cream through feed tube and process just until combined with pork. Transfer to large bowl. Mix in currants., Spoon mixture into prepared pan. Cover with foil. Place pan in large pan. Add boiling water to larger pan to within 1/2 inch of top of terrine. Bake until terrine begins to shrink from sides of pan and knife inserted into center comes out clean, about 1 1/2 hours. Uncover and cool on rack. Chill until cold. (Can be made 3 days ahead. Cover and chill.), Line platter with lettuce. Arrange terrine atop. Sprinkle with pepper and parsley. Garnish with bay leaves. Spoon confit around sides. Serve with bread., Heat oil in heavy large skillet over medium-high heat. Add onions and sauté until crisp-tender, about 8 minutes. Add all remaining ingredients and stir until reduced to thick glaze, about 4 minutes. Season with salt and pepper. (Can be prepared 2 days ahead. Cover and chill.) Serve warm or at room temperature.]   \n",
       "2                                                                                                                                                                                                                                                                                                                                                                                                                                                                                                                                                                                                                                                                                                                                                                                                                                                                                                                                                                                                 [In a large heavy saucepan cook diced fennel and onion in butter over moderate heat, stirring, until softened, about 10 minutes. Peel and cube potatoes. Add potatoes and broth to fennel mixture and simmer, covered, until potatoes are very tender, about 20 minutes. In a blender or food processor purée mixture in batches until smooth and return to saucepan. Stir in milk and salt and pepper to taste and simmer soup, stirring occasionally, 10 minutes, or until heated through., Garnish soup with reserved fennel leaves.]   \n",
       "\n",
       "    fat                      date  \\\n",
       "0   7.0 2006-09-01 04:00:00+00:00   \n",
       "1  23.0 2004-08-20 04:00:00+00:00   \n",
       "2   7.0 2004-08-20 04:00:00+00:00   \n",
       "\n",
       "                                                                                                         categories  \\\n",
       "0                  [Sandwich, Bean, Fruit, Tomato, turkey, Vegetable, Kid-Friendly, Apple, Lentil, Lettuce, Cookie]   \n",
       "1  [Food Processor, Onion, Pork, Bake, Bastille Day, New Year's Eve, Dried Fruit, Port, Winter, Chill, Bon Appétit]   \n",
       "2                                                  [Soup/Stew, Dairy, Potato, Vegetable, Fennel, Gourmet, New York]   \n",
       "\n",
       "   calories  \\\n",
       "0     426.0   \n",
       "1     403.0   \n",
       "2     165.0   \n",
       "\n",
       "                                                                                                                     desc  \\\n",
       "0                                                                                                                    None   \n",
       "1  This uses the same ingredients found in boudin blanc, the classic French white sausage. Start two days before serving.   \n",
       "2                                                                                                                    None   \n",
       "\n",
       "   protein  rating                                        title  \\\n",
       "0     30.0   2.500              Lentil, Apple, and Turkey Wrap    \n",
       "1     18.0   4.375  Boudin Blanc Terrine with Red Onion Confit    \n",
       "2      6.0   3.750                Potato and Fennel Soup Hodge    \n",
       "\n",
       "                                                                                                                                                                                                                                                                                                                                                                                                                                                                                                                                                                                                                                                                                                                                                                                                                    ingredients  \\\n",
       "0                                                                                                                                                                                                                                              [4 cups low-sodium vegetable or chicken stock, 1 cup dried brown lentils, 1/2 cup dried French green lentils, 2 stalks celery, chopped, 1 large carrot, peeled and chopped, 1 sprig fresh thyme, 1 teaspoon kosher salt, 1 medium tomato, cored, seeded, and diced, 1 small Fuji apple, cored and diced, 1 tablespoon freshly squeezed lemon juice, 2 teaspoons extra-virgin olive oil, Freshly ground black pepper to taste, 3 sheets whole-wheat lavash, cut in half crosswise, or 6 (12-inch) flour tortillas, 3/4 pound turkey breast, thinly sliced, 1/2 head Bibb lettuce]   \n",
       "1  [1 1/2 cups whipping cream, 2 medium onions, chopped, 5 teaspoons salt, 3 bay leaves, 3 whole cloves, 1 large garlic clove, crushed, 1 teaspoon pepper, 1/8 teaspoon ground nutmeg, Pinch of dried thyme, crumbled, 8 large shallots, minced, 1 tablespoon butter, 1 pound trimmed boneless center pork loin, sinew removed cut into 1-inch chunks, well chilled, 3 eggs, 6 tablespoon all purpose flour, 1/4 cup tawny Port, 3 tablespoons dried currants, minced, Lettuce leaves, Cracked peppercorns, Minced fresh parsley, Bay leaves, French bread baguette slices, 3 tablespoons olive oil, 2 large red onions, halved, sliced, 3 tablespoons dried currants, 3 tablespoons red wine vinegar, 1 tablespoons canned chicken broth, 2 teaspoons chopped fresh thyme or 3/4 teaspoon dried, crumbled, 1/2 teaspoon sugar]   \n",
       "2                                                                                                                                                                                                                                                                                                                                                                                                                                                                                                                                                                    [1 fennel bulb (sometimes called anise), stalks discarded, bulb cut into 1/2-inch dice, and feathery leaves reserved for garnish, 1 onion, diced, 2 tablespoons unsalted butter, 2 medium russet (baking) potatoes, 2 cups chicken broth, 1 1/2 cups milk]   \n",
       "\n",
       "   sodium  \n",
       "0   559.0  \n",
       "1  1439.0  \n",
       "2   165.0  "
      ]
     },
     "execution_count": 7,
     "metadata": {},
     "output_type": "execute_result"
    }
   ],
   "source": [
    "df = pd.read_json(data_file) \n",
    "df.head(3)"
   ]
  },
  {
   "cell_type": "markdown",
   "id": "38c50005-1bef-487a-8188-f6004cf5ab29",
   "metadata": {},
   "source": [
    "## write in json lines"
   ]
  },
  {
   "cell_type": "raw",
   "id": "55faaec6-ce10-479d-b505-b2028358c9b2",
   "metadata": {},
   "source": [
    "lines_file = f'{os.getenv(\"PROJECT_DIR\")}/data/full_format_recipes.jsonl'\n",
    "df.to_json(lines_file, orient=\"records\", lines=True) "
   ]
  },
  {
   "cell_type": "code",
   "execution_count": 26,
   "id": "99d7d6d8-0a92-4f89-9a33-f0c4a201e820",
   "metadata": {},
   "outputs": [
    {
     "data": {
      "text/plain": [
       "'2024-04-30T08:34:15.766409'"
      ]
     },
     "execution_count": 26,
     "metadata": {},
     "output_type": "execute_result"
    }
   ],
   "source": [
    "import datetime\n",
    "\n",
    "def serialize_datetime(obj): \n",
    "    if isinstance(obj, datetime.datetime): \n",
    "        return obj.isoformat() \n",
    "    raise TypeError(\"Type not serializable\") \n",
    "\n",
    "serialize_datetime(datetime.datetime.now())"
   ]
  },
  {
   "cell_type": "code",
   "execution_count": 29,
   "id": "c4b7e2e6-a2ce-47b6-9648-189e120c323e",
   "metadata": {},
   "outputs": [],
   "source": [
    "lines = []\n",
    "index = 'recipies'\n",
    "\n",
    "for idx, record in enumerate(df.to_dict(orient='records')):\n",
    "    index = {\"index\" : { \"_index\" : \"recipes\", \"_id\" : idx }}\n",
    "    lines.append(index)\n",
    "    lines.append(record)"
   ]
  },
  {
   "cell_type": "code",
   "execution_count": 30,
   "id": "263762d6-51c3-47b8-8f90-a6e379c7bdff",
   "metadata": {},
   "outputs": [],
   "source": [
    "import json\n",
    "with open(lines_file, 'w') as f:\n",
    "    for line in lines:\n",
    "        f.write(json.dumps(line, default=serialize_datetime))\n",
    "        f.write('\\n')"
   ]
  },
  {
   "cell_type": "code",
   "execution_count": null,
   "id": "08dcf470-b512-4df1-aba3-0c987a3401b7",
   "metadata": {},
   "outputs": [],
   "source": []
  }
 ],
 "metadata": {
  "kernelspec": {
   "display_name": "Python 3 (ipykernel)",
   "language": "python",
   "name": "python3"
  },
  "language_info": {
   "codemirror_mode": {
    "name": "ipython",
    "version": 3
   },
   "file_extension": ".py",
   "mimetype": "text/x-python",
   "name": "python",
   "nbconvert_exporter": "python",
   "pygments_lexer": "ipython3",
   "version": "3.12.2"
  }
 },
 "nbformat": 4,
 "nbformat_minor": 5
}
